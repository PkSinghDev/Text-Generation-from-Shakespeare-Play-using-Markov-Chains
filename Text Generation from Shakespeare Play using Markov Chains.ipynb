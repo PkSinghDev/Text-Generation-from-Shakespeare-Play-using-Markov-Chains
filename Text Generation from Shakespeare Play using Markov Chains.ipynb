{
 "cells": [
  {
   "cell_type": "markdown",
   "id": "b14df298",
   "metadata": {},
   "source": [
    "Text Generation from Shakespeare Play using Markov Chains\n",
    "============================================"
   ]
  },
  {
   "cell_type": "code",
   "execution_count": 1,
   "id": "5678d11b",
   "metadata": {},
   "outputs": [],
   "source": [
    "import numpy as np\n",
    "import pandas as pd\n",
    "from tensorflow import keras\n",
    "import re"
   ]
  },
  {
   "cell_type": "markdown",
   "id": "07141c0d",
   "metadata": {},
   "source": [
    "### Reading a Text File"
   ]
  },
  {
   "cell_type": "code",
   "execution_count": 2,
   "id": "fd0c63ad",
   "metadata": {},
   "outputs": [],
   "source": [
    "filepath = \"./data_shakespeare.txt\"\n",
    "\n",
    "with open(filepath, 'r') as f:\n",
    "    shakespeare_txt = f.read()"
   ]
  },
  {
   "cell_type": "markdown",
   "id": "857b52b6",
   "metadata": {},
   "source": [
    "### Data Preprocessing"
   ]
  },
  {
   "cell_type": "code",
   "execution_count": 3,
   "id": "e03969cc",
   "metadata": {},
   "outputs": [],
   "source": [
    "shakespeare_txt = re.sub(\"([.,!?:;])\", r\" \\1 \", shakespeare_txt)"
   ]
  },
  {
   "cell_type": "markdown",
   "id": "aaa2da96",
   "metadata": {},
   "source": [
    "#### Using Tokenizer class of keras library"
   ]
  },
  {
   "cell_type": "code",
   "execution_count": 4,
   "id": "ef1477d8",
   "metadata": {},
   "outputs": [],
   "source": [
    "tokenizer = keras.preprocessing.text.Tokenizer(filters = \"\\\"#$%&()*+-/<=>@[\\\\]^_`{|}~\\t\\n\", char_level = False)\n",
    "tokenizer.fit_on_texts([shakespeare_txt])"
   ]
  },
  {
   "cell_type": "markdown",
   "id": "852b02e1",
   "metadata": {},
   "source": [
    "#### number of distinct words"
   ]
  },
  {
   "cell_type": "code",
   "execution_count": 5,
   "id": "c00fd3c7",
   "metadata": {},
   "outputs": [
    {
     "data": {
      "text/plain": [
       "12638"
      ]
     },
     "execution_count": 5,
     "metadata": {},
     "output_type": "execute_result"
    }
   ],
   "source": [
    "max_id = len(tokenizer.word_index)\n",
    "max_id"
   ]
  },
  {
   "cell_type": "markdown",
   "id": "5f6bafdf",
   "metadata": {},
   "source": [
    "#### Total Words in the file"
   ]
  },
  {
   "cell_type": "code",
   "execution_count": 6,
   "id": "12f71a4b",
   "metadata": {},
   "outputs": [
    {
     "data": {
      "text/plain": [
       "250398"
      ]
     },
     "execution_count": 6,
     "metadata": {},
     "output_type": "execute_result"
    }
   ],
   "source": [
    "word_counts = dict(tokenizer.word_counts)\n",
    "total_words = sum(word_counts.values())\n",
    "total_words"
   ]
  },
  {
   "cell_type": "markdown",
   "id": "27b94094",
   "metadata": {},
   "source": [
    "### Create Embeddings/Vectors for Tokens"
   ]
  },
  {
   "cell_type": "code",
   "execution_count": 7,
   "id": "524d8457",
   "metadata": {},
   "outputs": [],
   "source": [
    "[embeddings] = np.array(tokenizer.texts_to_sequences([shakespeare_txt])) - 1"
   ]
  },
  {
   "cell_type": "code",
   "execution_count": 8,
   "id": "b9669b56",
   "metadata": {},
   "outputs": [
    {
     "data": {
      "text/plain": [
       "(250398,)"
      ]
     },
     "execution_count": 8,
     "metadata": {},
     "output_type": "execute_result"
    }
   ],
   "source": [
    "embeddings.shape"
   ]
  },
  {
   "cell_type": "code",
   "execution_count": 9,
   "id": "e354cd4d",
   "metadata": {},
   "outputs": [
    {
     "data": {
      "text/plain": [
       "93"
      ]
     },
     "execution_count": 9,
     "metadata": {},
     "output_type": "execute_result"
    }
   ],
   "source": [
    "embeddings[0]"
   ]
  },
  {
   "cell_type": "markdown",
   "id": "047740e6",
   "metadata": {},
   "source": [
    "# Understanding Markov Chains"
   ]
  },
  {
   "cell_type": "markdown",
   "id": "0b9aa6ba",
   "metadata": {},
   "source": [
    "#### Markov chains are random determined processes with a finite set of states that move from one state to another. These sets of transitions from state to state are determined by some probability distribution. "
   ]
  },
  {
   "cell_type": "markdown",
   "id": "f3f33971",
   "metadata": {},
   "source": [
    "Text as a Markov Chain\n",
    "----------------------\n",
    "\n",
    "**The cat ran over the dog.**\n",
    "\n",
    "![alt text](images/markov_text1.png \"Text\")\n",
    "\n",
    "\n",
    "A Markov chain typically consists of two entities: A transition matrix and an initial state vector. \n",
    "\n",
    "As we saw above, the next state in the chain depends on the probability distribution of the previous state. These probabilities are represented in the form of a transition matrix.\n",
    "\n",
    "Transition Matrix representation __rows are current state, columns are next state__:\n",
    "\n",
    "| | the | cat | ran | over | dog | . |\n",
    "| --- | --- | --- | --- | --- | --- | --- |\n",
    "| **the** | 0 | 0.5 | 0 | 0 | 0.5 | 0 |\n",
    "| **cat** | 0 | 0 | 1 | 0 | 0 | 0 |\n",
    "| **ran** | 0 | 0 | 0 | 1 | 0 | 0 |\n",
    "| **over** | 1 | 0 | 0 | 0 | 0 | 0 |\n",
    "| **dog** | 0 | 0 | 0 | 0 | 0 | 1 |\n",
    "| **.** | 0 | 0 | 0 | 0 | 0 | 1 |"
   ]
  },
  {
   "cell_type": "markdown",
   "id": "f3c2ea91",
   "metadata": {},
   "source": [
    "To make the implementation of Markov chains easy, you can make use of the built-in package known as markovify. \n",
    "\n",
    "To install this use the following command \n",
    "\n",
    "`pip install markovify`"
   ]
  },
  {
   "cell_type": "markdown",
   "id": "dd212de1",
   "metadata": {},
   "source": [
    "However, for this project we shall be building the __matrices from scratch__ to better understand the implementation"
   ]
  },
  {
   "cell_type": "markdown",
   "id": "0ed87bcc",
   "metadata": {},
   "source": [
    "### Building transition matrix\n",
    "- Most of the elements would be zero. \n",
    "- Hence using a sparse array representation\n",
    "- csr - Compressed Sparse Row matrix or lil - List of Lists Matrix\n",
    "- We would use lil_matrix. It is more efficient"
   ]
  },
  {
   "cell_type": "markdown",
   "id": "85f921cf",
   "metadata": {},
   "source": [
    "Creating few helper variables to assist in building transition matrix"
   ]
  },
  {
   "cell_type": "code",
   "execution_count": 10,
   "id": "ef55807f",
   "metadata": {},
   "outputs": [],
   "source": [
    "### Can be created by code or we can use the tokenizer object here to create the same\n",
    "words_idxs = {key:value - 1 for key, value in tokenizer.word_index.items()}\n",
    "idxs_words = {key-1:value for key, value in tokenizer.index_word.items()}"
   ]
  },
  {
   "cell_type": "code",
   "execution_count": 11,
   "id": "d8e52102",
   "metadata": {},
   "outputs": [],
   "source": [
    "distinct_states = list(words_idxs.keys())"
   ]
  },
  {
   "cell_type": "code",
   "execution_count": 12,
   "id": "01a39326",
   "metadata": {},
   "outputs": [],
   "source": [
    "from scipy.sparse import lil_matrix\n",
    "tr_mat = lil_matrix(\n",
    "    (len(distinct_states), len(distinct_states)),\n",
    "    dtype = float\n",
    ")"
   ]
  },
  {
   "cell_type": "markdown",
   "id": "1b31c475",
   "metadata": {},
   "source": [
    "To build the transition matrix we will loop over all tokens/embeddings and increment their respective place in the transition matrix (as above in the example).\n",
    "\n",
    "We call the rows of a transition matrix as current states and columns as next states. We will increment the cell by 1 whenever we observe a transition from one particular current state to next state.  To understand better look at the table above."
   ]
  },
  {
   "cell_type": "code",
   "execution_count": 13,
   "id": "7e5e6520",
   "metadata": {},
   "outputs": [
    {
     "name": "stdout",
     "output_type": "stream",
     "text": [
      "Wall time: 1.75 s\n"
     ]
    }
   ],
   "source": [
    "%%time\n",
    "### Iterate upto the second last token - Since that token has no next transition\n",
    "for i in range(len(embeddings) - 1):\n",
    "    row = embeddings[i]\n",
    "    col = embeddings[i + 1]\n",
    "    tr_mat[row, col] += 1"
   ]
  },
  {
   "cell_type": "markdown",
   "id": "e376e987",
   "metadata": {},
   "source": [
    "### Text Generation Algorithm"
   ]
  },
  {
   "cell_type": "markdown",
   "id": "72c175cf",
   "metadata": {},
   "source": [
    "Now that we have the transition matrix. Let's generate text by following the below pseudo code:\n",
    "- Get a random integer between (0, distinct_states). This will be the index of the starting state/word\n",
    "- Get the word for this index\n",
    "- Loop over to generate a fixed number of sentences or it would go on generating text endlessly:\n",
    "    - Get the current state row of the transition matrix. It shows all the counts that is possible from current state to its next state in the columns\n",
    "    - Convert the counts to probabilities by dividing by the row's sum\n",
    "    - Choose a random choice from these probabilities using numpy's random choice\n",
    "    - Get the next state word from the dictionary we have\n",
    "    - if the next state is a sentence terminator increment num_sentences\n",
    "    - else add the next_state's word to the output\n",
    "    - update the start state to be the next state to get the next states and so on....\n",
    "    \n",
    "    \n",
    "- We have also used capitalize() method just to capitalize the starting of each sentence"
   ]
  },
  {
   "cell_type": "code",
   "execution_count": 14,
   "id": "3be86fba",
   "metadata": {},
   "outputs": [
    {
     "name": "stdout",
     "output_type": "stream",
     "text": [
      "Object cheer these eyes shall they whom thou shalt know, in his royal realm ; and will murder : and be my wooing, i spill'd ; go with kind one ; he not so much fills mine ear ; worthy a seeming!\n",
      "\n",
      "To infliction, make prepare me free desire it not only, will effects bianca's grief.\n",
      "\n",
      "King my manors, and bid false.\n",
      "\n",
      "Did tell thee a kiss thy help our throne, rave, boast itself the blossoms of behavior, knock me looks my soul's peril to make the prince is cheered by their abominable : within the men hate of some sufficient to the duke vincentio : yonder is bad enough.\n",
      "\n",
      "Say, is my dear account this order?\n",
      "\n",
      "\n"
     ]
    }
   ],
   "source": [
    "import numpy as np\n",
    "\n",
    "start_state_index = np.random.randint(len(distinct_states)) # Random Starting Idx\n",
    "start_state = idxs_words[start_state_index] # Random Starting Word\n",
    "num_sentences = 0 # To generate fixed num of sentences\n",
    "output = start_state.capitalize() # Initializing the output variable with start word\n",
    "capitalize = False\n",
    "\n",
    "while num_sentences < 5: # Generating 3 sentences\n",
    "#     print(start_state)\n",
    "    row = tr_mat[words_idxs[start_state], :] # Getting the row of possible transitions\n",
    "    probabilities = row / row.sum() # Converting into probabilities\n",
    "    probabilities = probabilities.toarray()[0] # numpy array conversion\n",
    "    \n",
    "    ## Chhosing the next state index using numpy random choice\n",
    "    next_state_index = np.random.choice(\n",
    "        len(distinct_states),\n",
    "        1, \n",
    "        p = probabilities\n",
    "    )\n",
    "    \n",
    "    # get next state using the index\n",
    "    next_state = idxs_words[next_state_index[0]]\n",
    "    \n",
    "    if next_state in ('.', '!', '?'): # looking for sentence terminator\n",
    "        num_sentences += 1\n",
    "        output += next_state + \"\\n\\n\"\n",
    "        capitalize = True\n",
    "    elif next_state == \",\":\n",
    "        output += next_state\n",
    "    else:\n",
    "        if capitalize:\n",
    "            output += next_state.capitalize()\n",
    "            capitalize = False\n",
    "        else:\n",
    "            output += \" \" + next_state\n",
    "    start_state = next_state # Updating the start state with the next state\n",
    "    \n",
    "print(output)"
   ]
  },
  {
   "cell_type": "markdown",
   "id": "1baab0bd",
   "metadata": {},
   "source": [
    "k-Word Markov Chain\n",
    "-------------------\n",
    "\n",
    "**The cat ran over the dog.**\n",
    "\n",
    "![alt text](images/markov_text2.png \"Text\")\n",
    "\n",
    "In a k word markov chain we have k words/tokens as one single state. Hence the transition matrix below. <br />\n",
    "Matrix representation (rows are current state, columns are next state):\n",
    "\n",
    "| | the cat | cat ran | ran over | over the | the dog | dog. |\n",
    "| --- | --- | --- | --- | --- | --- | --- |\n",
    "| **the cat**  | 0 | 1 | 0 | 0 | 0 | 0 |\n",
    "| **cat ran**  | 0 | 0 | 1 | 0 | 0 | 0 |\n",
    "| **ran over** | 0 | 0 | 0 | 1 | 0 | 0 |\n",
    "| **over the** | 0 | 0 | 0 | 0 | 1 | 0 |\n",
    "| **the dog**  | 0 | 0 | 0 | 0 | 0 | 1 |\n",
    "| **dog.**     | 0 | 0 | 0 | 0 | 0 | 1 |\n",
    "\n"
   ]
  },
  {
   "cell_type": "markdown",
   "id": "caf6d859",
   "metadata": {},
   "source": [
    "Creating k-word states for the transition matrix"
   ]
  },
  {
   "cell_type": "code",
   "execution_count": 15,
   "id": "5b3436a1",
   "metadata": {},
   "outputs": [],
   "source": [
    "k = 3\n",
    "embedding_states = [tuple(embeddings[i : i + k]) for i in range(len(embeddings) - k + 1)]\n",
    "word_states = [tuple([idxs_words[st] for st in state]) for state in embedding_states ]\n",
    "distinct_states = list(set(word_states))"
   ]
  },
  {
   "cell_type": "markdown",
   "id": "5c566318",
   "metadata": {},
   "source": [
    "#### Total distinct states formed of k-words/tokens"
   ]
  },
  {
   "cell_type": "code",
   "execution_count": 16,
   "id": "5cabf502",
   "metadata": {
    "scrolled": false
   },
   "outputs": [
    {
     "data": {
      "text/plain": [
       "193953"
      ]
     },
     "execution_count": 16,
     "metadata": {},
     "output_type": "execute_result"
    }
   ],
   "source": [
    "len(distinct_states)"
   ]
  },
  {
   "cell_type": "code",
   "execution_count": 17,
   "id": "f66aab04",
   "metadata": {},
   "outputs": [],
   "source": [
    "from scipy.sparse import lil_matrix\n",
    "tr_mat = lil_matrix(\n",
    "    (len(distinct_states), len(distinct_states)),\n",
    "    dtype = float\n",
    ")\n",
    "\n",
    "### Creating a dictionary of state, id_num to get to id_num quickly from state\n",
    "state_index = dict(\n",
    "    [(state, idx_num) for idx_num, state in enumerate(distinct_states)]\n",
    ")\n"
   ]
  },
  {
   "cell_type": "code",
   "execution_count": 18,
   "id": "c9618f4e",
   "metadata": {},
   "outputs": [
    {
     "name": "stdout",
     "output_type": "stream",
     "text": [
      "Wall time: 1.77 s\n"
     ]
    }
   ],
   "source": [
    "%%time\n",
    "### Iterate upto the last \"k - 1\" tokens - Since that token has no next transition\n",
    "for i in range(len(embeddings) - k):\n",
    "    row = state_index[word_states[i]]\n",
    "    col = state_index[word_states[i + 1]]\n",
    "    tr_mat[row, col] += 1"
   ]
  },
  {
   "cell_type": "code",
   "execution_count": 19,
   "id": "60038362",
   "metadata": {},
   "outputs": [
    {
     "name": "stdout",
     "output_type": "stream",
     "text": [
      "Soul ! a' was a merry man took up the child: 'yea, ' quoth he; and swore so loud, that, being mad herself, she's madly mated.\n",
      "\n",
      "Gremio: o, bid me devise some mean to rid her from this second marriage, or in my cell there would she kill herself.\n",
      "\n",
      "Then gave i her, so tutor'd by my art, a sleeping potion; which so drew the rest of the eight.\n",
      "\n",
      "Will you laugh me asleep, for i never saw a vessel of like sorrow, so fill'd and so becoming: in pure white robes, like very sanctity, she did approach my cabin where i lay; thrice bow'd before me, and think upon my bidding.\n",
      "\n",
      "Antigonus: hang all the husbands that cannot do that feat, you'll leave yourself hardly one subject.\n",
      "\n",
      "\n"
     ]
    }
   ],
   "source": [
    "import numpy as np\n",
    "\n",
    "start_state_index = np.random.randint(len(distinct_states)) # Random Starting Idx\n",
    "start_state = distinct_states[start_state_index] # Random Starting Word\n",
    "num_sentences = 0 # To generate fixed num of sentences\n",
    "output = ' '.join(start_state).capitalize() # Initializing the output variable with start word\n",
    "capitalize = False\n",
    "\n",
    "while num_sentences < 5: # Generating 3 sentences\n",
    "    row = tr_mat[state_index[start_state], :] # Getting the row of possible transitions\n",
    "    probabilities = row / row.sum() # Converting into probabilities\n",
    "    probabilities = probabilities.toarray()[0] # numpy array conversion\n",
    "    \n",
    "    ## Chhosing the next state index using numpy random choice\n",
    "    next_state_index = np.random.choice(\n",
    "        len(distinct_states), \n",
    "        1,\n",
    "        p = probabilities\n",
    "    )\n",
    "    \n",
    "    # get next state using the index\n",
    "    next_state = distinct_states[next_state_index[0]]\n",
    "    \n",
    "    if next_state[-1] in ('.', '!', '?'): # looking for sentence terminator\n",
    "        num_sentences += 1\n",
    "        output += next_state[-1] + \"\\n\\n\"\n",
    "        capitalize = True\n",
    "    elif next_state[-1] in (\",\", \":\", \";\"):\n",
    "        output += next_state[-1]\n",
    "    else:\n",
    "        if capitalize:\n",
    "            output += next_state[-1].capitalize()\n",
    "            capitalize = False\n",
    "        else:\n",
    "            output += \" \" + next_state[-1]\n",
    "    \n",
    "    # print(\"y\")\n",
    "    start_state = next_state # Updating the start state with the next state\n",
    "    \n",
    "print(output)"
   ]
  },
  {
   "cell_type": "code",
   "execution_count": null,
   "id": "12a15acf",
   "metadata": {},
   "outputs": [],
   "source": []
  }
 ],
 "metadata": {
  "hide_input": false,
  "kernelspec": {
   "display_name": "Python 3 (ipykernel)",
   "language": "python",
   "name": "python3"
  },
  "language_info": {
   "codemirror_mode": {
    "name": "ipython",
    "version": 3
   },
   "file_extension": ".py",
   "mimetype": "text/x-python",
   "name": "python",
   "nbconvert_exporter": "python",
   "pygments_lexer": "ipython3",
   "version": "3.9.12"
  }
 },
 "nbformat": 4,
 "nbformat_minor": 5
}
